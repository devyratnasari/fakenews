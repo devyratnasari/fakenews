{
 "cells": [
  {
   "cell_type": "code",
   "execution_count": 2,
   "id": "d29de3af",
   "metadata": {},
   "outputs": [
    {
     "name": "stdout",
     "output_type": "stream",
     "text": [
      "Unexpected exception formatting exception. Falling back to standard exception\n"
     ]
    },
    {
     "name": "stderr",
     "output_type": "stream",
     "text": [
      "Traceback (most recent call last):\n",
      "  File \"c:\\Users\\dvnbi\\anaconda3\\envs\\NLP\\lib\\site-packages\\IPython\\core\\interactiveshell.py\", line 3398, in run_code\n",
      "    exec(code_obj, self.user_global_ns, self.user_ns)\n",
      "  File \"C:\\Users\\dvnbi\\AppData\\Local\\Temp\\ipykernel_7396\\3241197564.py\", line 4, in <cell line: 4>\n",
      "    from tensorflow.keras.layers import Embedding,LSTM,Dense,Dropout\n",
      "  File \"c:\\Users\\dvnbi\\anaconda3\\envs\\NLP\\lib\\site-packages\\tensorflow\\__init__.py\", line 37, in <module>\n",
      "    from tensorflow.python.tools import module_util as _module_util\n",
      "  File \"c:\\Users\\dvnbi\\anaconda3\\envs\\NLP\\lib\\site-packages\\tensorflow\\python\\__init__.py\", line 45, in <module>\n",
      "    from tensorflow.python.feature_column import feature_column_lib as feature_column\n",
      "  File \"c:\\Users\\dvnbi\\anaconda3\\envs\\NLP\\lib\\site-packages\\tensorflow\\python\\feature_column\\feature_column_lib.py\", line 18, in <module>\n",
      "    from tensorflow.python.feature_column.feature_column import *\n",
      "  File \"c:\\Users\\dvnbi\\anaconda3\\envs\\NLP\\lib\\site-packages\\tensorflow\\python\\feature_column\\feature_column.py\", line 143, in <module>\n",
      "    from tensorflow.python.layers import base\n",
      "  File \"c:\\Users\\dvnbi\\anaconda3\\envs\\NLP\\lib\\site-packages\\tensorflow\\python\\layers\\base.py\", line 16, in <module>\n",
      "    from tensorflow.python.keras.legacy_tf_layers import base\n",
      "  File \"c:\\Users\\dvnbi\\anaconda3\\envs\\NLP\\lib\\site-packages\\tensorflow\\python\\keras\\__init__.py\", line 25, in <module>\n",
      "    from tensorflow.python.keras import models\n",
      "  File \"c:\\Users\\dvnbi\\anaconda3\\envs\\NLP\\lib\\site-packages\\tensorflow\\python\\keras\\models.py\", line 22, in <module>\n",
      "    from tensorflow.python.keras.engine import functional\n",
      "  File \"c:\\Users\\dvnbi\\anaconda3\\envs\\NLP\\lib\\site-packages\\tensorflow\\python\\keras\\engine\\functional.py\", line 32, in <module>\n",
      "    from tensorflow.python.keras.engine import training as training_lib\n",
      "  File \"c:\\Users\\dvnbi\\anaconda3\\envs\\NLP\\lib\\site-packages\\tensorflow\\python\\keras\\engine\\training.py\", line 42, in <module>\n",
      "    from tensorflow.python.keras import callbacks as callbacks_module\n",
      "  File \"c:\\Users\\dvnbi\\anaconda3\\envs\\NLP\\lib\\site-packages\\tensorflow\\python\\keras\\callbacks.py\", line 68, in <module>\n",
      "    import requests\n",
      "  File \"c:\\Users\\dvnbi\\anaconda3\\envs\\NLP\\lib\\site-packages\\requests\\__init__.py\", line 43, in <module>\n",
      "    import urllib3\n",
      "  File \"c:\\Users\\dvnbi\\anaconda3\\envs\\NLP\\lib\\site-packages\\urllib3\\__init__.py\", line 13, in <module>\n",
      "    from .connectionpool import HTTPConnectionPool, HTTPSConnectionPool, connection_from_url\n",
      "  File \"c:\\Users\\dvnbi\\anaconda3\\envs\\NLP\\lib\\site-packages\\urllib3\\connectionpool.py\", line 40, in <module>\n",
      "    from .response import HTTPResponse\n",
      "  File \"c:\\Users\\dvnbi\\anaconda3\\envs\\NLP\\lib\\site-packages\\urllib3\\response.py\", line 160, in <module>\n",
      "    class HTTPResponse(io.IOBase):\n",
      "  File \"c:\\Users\\dvnbi\\anaconda3\\envs\\NLP\\lib\\site-packages\\urllib3\\response.py\", line 393, in HTTPResponse\n",
      "    DECODER_ERROR_CLASSES += (brotli.error,)\n",
      "AttributeError: module 'brotli' has no attribute 'error'\n",
      "\n",
      "During handling of the above exception, another exception occurred:\n",
      "\n",
      "Traceback (most recent call last):\n",
      "  File \"c:\\Users\\dvnbi\\anaconda3\\envs\\NLP\\lib\\site-packages\\IPython\\core\\interactiveshell.py\", line 1993, in showtraceback\n",
      "    stb = self.InteractiveTB.structured_traceback(\n",
      "  File \"c:\\Users\\dvnbi\\anaconda3\\envs\\NLP\\lib\\site-packages\\IPython\\core\\ultratb.py\", line 1118, in structured_traceback\n",
      "    return FormattedTB.structured_traceback(\n",
      "  File \"c:\\Users\\dvnbi\\anaconda3\\envs\\NLP\\lib\\site-packages\\IPython\\core\\ultratb.py\", line 1012, in structured_traceback\n",
      "    return VerboseTB.structured_traceback(\n",
      "  File \"c:\\Users\\dvnbi\\anaconda3\\envs\\NLP\\lib\\site-packages\\IPython\\core\\ultratb.py\", line 865, in structured_traceback\n",
      "    formatted_exception = self.format_exception_as_a_whole(etype, evalue, etb, number_of_lines_of_context,\n",
      "  File \"c:\\Users\\dvnbi\\anaconda3\\envs\\NLP\\lib\\site-packages\\IPython\\core\\ultratb.py\", line 818, in format_exception_as_a_whole\n",
      "    frames.append(self.format_record(r))\n",
      "  File \"c:\\Users\\dvnbi\\anaconda3\\envs\\NLP\\lib\\site-packages\\IPython\\core\\ultratb.py\", line 736, in format_record\n",
      "    result += ''.join(_format_traceback_lines(frame_info.lines, Colors, self.has_colors, lvals))\n",
      "  File \"c:\\Users\\dvnbi\\anaconda3\\envs\\NLP\\lib\\site-packages\\stack_data\\utils.py\", line 145, in cached_property_wrapper\n",
      "    value = obj.__dict__[self.func.__name__] = self.func(obj)\n",
      "  File \"c:\\Users\\dvnbi\\anaconda3\\envs\\NLP\\lib\\site-packages\\stack_data\\core.py\", line 698, in lines\n",
      "    pieces = self.included_pieces\n",
      "  File \"c:\\Users\\dvnbi\\anaconda3\\envs\\NLP\\lib\\site-packages\\stack_data\\utils.py\", line 145, in cached_property_wrapper\n",
      "    value = obj.__dict__[self.func.__name__] = self.func(obj)\n",
      "  File \"c:\\Users\\dvnbi\\anaconda3\\envs\\NLP\\lib\\site-packages\\stack_data\\core.py\", line 649, in included_pieces\n",
      "    pos = scope_pieces.index(self.executing_piece)\n",
      "  File \"c:\\Users\\dvnbi\\anaconda3\\envs\\NLP\\lib\\site-packages\\stack_data\\utils.py\", line 145, in cached_property_wrapper\n",
      "    value = obj.__dict__[self.func.__name__] = self.func(obj)\n",
      "  File \"c:\\Users\\dvnbi\\anaconda3\\envs\\NLP\\lib\\site-packages\\stack_data\\core.py\", line 628, in executing_piece\n",
      "    return only(\n",
      "  File \"c:\\Users\\dvnbi\\anaconda3\\envs\\NLP\\lib\\site-packages\\executing\\executing.py\", line 164, in only\n",
      "    raise NotOneValueFound('Expected one value, found 0')\n",
      "executing.executing.NotOneValueFound: Expected one value, found 0\n"
     ]
    }
   ],
   "source": [
    "import numpy as np\n",
    "import pandas as pd\n",
    "import matplotlib.pyplot as plt\n",
    "from tensorflow.keras.layers import Embedding,LSTM,Dense,Dropout\n",
    "from tensorflow.keras.preprocessing.sequence import pad_sequences\n",
    "from tensorflow.keras.models import Sequential\n",
    "from tensorflow.keras.utils import plot_model\n",
    "from tensorflow.keras.preprocessing.text import one_hot\n",
    "from sklearn.metrics import plot_confusion_matrix"
   ]
  },
  {
   "cell_type": "code",
   "execution_count": 3,
   "id": "8887f4b5",
   "metadata": {},
   "outputs": [],
   "source": [
    "df = pd.read_csv(r'./dataset/train.csv')\n",
    "test = pd.read_csv(r'./dataset/test.csv')"
   ]
  },
  {
   "cell_type": "code",
   "execution_count": 4,
   "id": "429646de",
   "metadata": {},
   "outputs": [
    {
     "data": {
      "text/html": [
       "<div>\n",
       "<style scoped>\n",
       "    .dataframe tbody tr th:only-of-type {\n",
       "        vertical-align: middle;\n",
       "    }\n",
       "\n",
       "    .dataframe tbody tr th {\n",
       "        vertical-align: top;\n",
       "    }\n",
       "\n",
       "    .dataframe thead th {\n",
       "        text-align: right;\n",
       "    }\n",
       "</style>\n",
       "<table border=\"1\" class=\"dataframe\">\n",
       "  <thead>\n",
       "    <tr style=\"text-align: right;\">\n",
       "      <th></th>\n",
       "      <th>id</th>\n",
       "      <th>title</th>\n",
       "      <th>author</th>\n",
       "      <th>text</th>\n",
       "      <th>label</th>\n",
       "    </tr>\n",
       "  </thead>\n",
       "  <tbody>\n",
       "    <tr>\n",
       "      <th>0</th>\n",
       "      <td>0</td>\n",
       "      <td>House Dem Aide: We Didn’t Even See Comey’s Let...</td>\n",
       "      <td>Darrell Lucus</td>\n",
       "      <td>House Dem Aide: We Didn’t Even See Comey’s Let...</td>\n",
       "      <td>1</td>\n",
       "    </tr>\n",
       "    <tr>\n",
       "      <th>1</th>\n",
       "      <td>1</td>\n",
       "      <td>FLYNN: Hillary Clinton, Big Woman on Campus - ...</td>\n",
       "      <td>Daniel J. Flynn</td>\n",
       "      <td>Ever get the feeling your life circles the rou...</td>\n",
       "      <td>0</td>\n",
       "    </tr>\n",
       "    <tr>\n",
       "      <th>2</th>\n",
       "      <td>2</td>\n",
       "      <td>Why the Truth Might Get You Fired</td>\n",
       "      <td>Consortiumnews.com</td>\n",
       "      <td>Why the Truth Might Get You Fired October 29, ...</td>\n",
       "      <td>1</td>\n",
       "    </tr>\n",
       "    <tr>\n",
       "      <th>3</th>\n",
       "      <td>3</td>\n",
       "      <td>15 Civilians Killed In Single US Airstrike Hav...</td>\n",
       "      <td>Jessica Purkiss</td>\n",
       "      <td>Videos 15 Civilians Killed In Single US Airstr...</td>\n",
       "      <td>1</td>\n",
       "    </tr>\n",
       "    <tr>\n",
       "      <th>4</th>\n",
       "      <td>4</td>\n",
       "      <td>Iranian woman jailed for fictional unpublished...</td>\n",
       "      <td>Howard Portnoy</td>\n",
       "      <td>Print \\nAn Iranian woman has been sentenced to...</td>\n",
       "      <td>1</td>\n",
       "    </tr>\n",
       "  </tbody>\n",
       "</table>\n",
       "</div>"
      ],
      "text/plain": [
       "   id                                              title              author  \\\n",
       "0   0  House Dem Aide: We Didn’t Even See Comey’s Let...       Darrell Lucus   \n",
       "1   1  FLYNN: Hillary Clinton, Big Woman on Campus - ...     Daniel J. Flynn   \n",
       "2   2                  Why the Truth Might Get You Fired  Consortiumnews.com   \n",
       "3   3  15 Civilians Killed In Single US Airstrike Hav...     Jessica Purkiss   \n",
       "4   4  Iranian woman jailed for fictional unpublished...      Howard Portnoy   \n",
       "\n",
       "                                                text  label  \n",
       "0  House Dem Aide: We Didn’t Even See Comey’s Let...      1  \n",
       "1  Ever get the feeling your life circles the rou...      0  \n",
       "2  Why the Truth Might Get You Fired October 29, ...      1  \n",
       "3  Videos 15 Civilians Killed In Single US Airstr...      1  \n",
       "4  Print \\nAn Iranian woman has been sentenced to...      1  "
      ]
     },
     "execution_count": 4,
     "metadata": {},
     "output_type": "execute_result"
    }
   ],
   "source": [
    "df.head()"
   ]
  },
  {
   "cell_type": "code",
   "execution_count": 5,
   "id": "f877466e",
   "metadata": {},
   "outputs": [
    {
     "name": "stdout",
     "output_type": "stream",
     "text": [
      "<class 'pandas.core.frame.DataFrame'>\n",
      "RangeIndex: 20800 entries, 0 to 20799\n",
      "Data columns (total 5 columns):\n",
      " #   Column  Non-Null Count  Dtype \n",
      "---  ------  --------------  ----- \n",
      " 0   id      20800 non-null  int64 \n",
      " 1   title   20242 non-null  object\n",
      " 2   author  18843 non-null  object\n",
      " 3   text    20761 non-null  object\n",
      " 4   label   20800 non-null  int64 \n",
      "dtypes: int64(2), object(3)\n",
      "memory usage: 812.6+ KB\n"
     ]
    }
   ],
   "source": [
    "df.info()"
   ]
  },
  {
   "cell_type": "markdown",
   "id": "51d988db",
   "metadata": {},
   "source": [
    "# Exploratory Data Analysis"
   ]
  },
  {
   "cell_type": "code",
   "execution_count": 6,
   "id": "d4fe4b7c",
   "metadata": {},
   "outputs": [
    {
     "data": {
      "text/plain": [
       "id           0\n",
       "title      558\n",
       "author    1957\n",
       "text        39\n",
       "label        0\n",
       "dtype: int64"
      ]
     },
     "execution_count": 6,
     "metadata": {},
     "output_type": "execute_result"
    }
   ],
   "source": [
    "## Check the Null Values \n",
    "df.isnull().sum()"
   ]
  },
  {
   "cell_type": "markdown",
   "id": "ea448557",
   "metadata": {},
   "source": [
    "We can see that there are some null value"
   ]
  },
  {
   "cell_type": "code",
   "execution_count": 7,
   "id": "4615b845",
   "metadata": {},
   "outputs": [
    {
     "data": {
      "text/plain": [
       "(array([0, 1], dtype=int64), array([10387, 10413], dtype=int64))"
      ]
     },
     "execution_count": 7,
     "metadata": {},
     "output_type": "execute_result"
    }
   ],
   "source": [
    "# Now count the Unique values to check the data is balanced or not\n",
    "count = np.unique(df['label'], return_counts=True)\n",
    "count"
   ]
  },
  {
   "cell_type": "code",
   "execution_count": 8,
   "id": "c88b13c9",
   "metadata": {},
   "outputs": [],
   "source": [
    "#filling NULL values with empty string\n",
    "df=df.fillna('')\n",
    "test=test.fillna('')"
   ]
  },
  {
   "cell_type": "code",
   "execution_count": 9,
   "id": "261235d1",
   "metadata": {},
   "outputs": [
    {
     "data": {
      "text/plain": [
       "<AxesSubplot:xlabel='label', ylabel='count'>"
      ]
     },
     "execution_count": 9,
     "metadata": {},
     "output_type": "execute_result"
    },
    {
     "data": {
      "image/png": "[encoded data removed]",
      "text/plain": [
       "<Figure size 432x288 with 1 Axes>"
      ]
     },
     "metadata": {
      "needs_background": "light"
     },
     "output_type": "display_data"
    }
   ],
   "source": [
    "import seaborn as sns\n",
    "sns.countplot(x='label', data = df)"
   ]
  },
  {
   "cell_type": "markdown",
   "id": "34e91a50",
   "metadata": {},
   "source": [
    "We can see that this dataset is balanced so we don't have to do anything here"
   ]
  },
  {
   "cell_type": "markdown",
   "id": "28198fd8",
   "metadata": {},
   "source": [
    "# Data Preprocessing & Cleaning"
   ]
  },
  {
   "cell_type": "code",
   "execution_count": 10,
   "id": "1ce2d0c8",
   "metadata": {},
   "outputs": [],
   "source": [
    "# We will be only using title and author name for prediction\n",
    "# Creating new coolumn total concatenating title and author\n",
    "df['total'] = df['title']+' '+df['author']\n",
    "test['total']=test['title']+' '+test['author']"
   ]
  },
  {
   "cell_type": "code",
   "execution_count": 11,
   "id": "fe74cb5b",
   "metadata": {},
   "outputs": [
    {
     "data": {
      "text/html": [
       "<div>\n",
       "<style scoped>\n",
       "    .dataframe tbody tr th:only-of-type {\n",
       "        vertical-align: middle;\n",
       "    }\n",
       "\n",
       "    .dataframe tbody tr th {\n",
       "        vertical-align: top;\n",
       "    }\n",
       "\n",
       "    .dataframe thead th {\n",
       "        text-align: right;\n",
       "    }\n",
       "</style>\n",
       "<table border=\"1\" class=\"dataframe\">\n",
       "  <thead>\n",
       "    <tr style=\"text-align: right;\">\n",
       "      <th></th>\n",
       "      <th>id</th>\n",
       "      <th>title</th>\n",
       "      <th>author</th>\n",
       "      <th>text</th>\n",
       "      <th>total</th>\n",
       "    </tr>\n",
       "  </thead>\n",
       "  <tbody>\n",
       "    <tr>\n",
       "      <th>0</th>\n",
       "      <td>20800</td>\n",
       "      <td>Specter of Trump Loosens Tongues, if Not Purse...</td>\n",
       "      <td>David Streitfeld</td>\n",
       "      <td>PALO ALTO, Calif.  —   After years of scorning...</td>\n",
       "      <td>Specter of Trump Loosens Tongues, if Not Purse...</td>\n",
       "    </tr>\n",
       "    <tr>\n",
       "      <th>1</th>\n",
       "      <td>20801</td>\n",
       "      <td>Russian warships ready to strike terrorists ne...</td>\n",
       "      <td></td>\n",
       "      <td>Russian warships ready to strike terrorists ne...</td>\n",
       "      <td>Russian warships ready to strike terrorists ne...</td>\n",
       "    </tr>\n",
       "    <tr>\n",
       "      <th>2</th>\n",
       "      <td>20802</td>\n",
       "      <td>#NoDAPL: Native American Leaders Vow to Stay A...</td>\n",
       "      <td>Common Dreams</td>\n",
       "      <td>Videos #NoDAPL: Native American Leaders Vow to...</td>\n",
       "      <td>#NoDAPL: Native American Leaders Vow to Stay A...</td>\n",
       "    </tr>\n",
       "    <tr>\n",
       "      <th>3</th>\n",
       "      <td>20803</td>\n",
       "      <td>Tim Tebow Will Attempt Another Comeback, This ...</td>\n",
       "      <td>Daniel Victor</td>\n",
       "      <td>If at first you don’t succeed, try a different...</td>\n",
       "      <td>Tim Tebow Will Attempt Another Comeback, This ...</td>\n",
       "    </tr>\n",
       "    <tr>\n",
       "      <th>4</th>\n",
       "      <td>20804</td>\n",
       "      <td>Keiser Report: Meme Wars (E995)</td>\n",
       "      <td>Truth Broadcast Network</td>\n",
       "      <td>42 mins ago 1 Views 0 Comments 0 Likes 'For th...</td>\n",
       "      <td>Keiser Report: Meme Wars (E995) Truth Broadcas...</td>\n",
       "    </tr>\n",
       "  </tbody>\n",
       "</table>\n",
       "</div>"
      ],
      "text/plain": [
       "      id                                              title  \\\n",
       "0  20800  Specter of Trump Loosens Tongues, if Not Purse...   \n",
       "1  20801  Russian warships ready to strike terrorists ne...   \n",
       "2  20802  #NoDAPL: Native American Leaders Vow to Stay A...   \n",
       "3  20803  Tim Tebow Will Attempt Another Comeback, This ...   \n",
       "4  20804                    Keiser Report: Meme Wars (E995)   \n",
       "\n",
       "                    author                                               text  \\\n",
       "0         David Streitfeld  PALO ALTO, Calif.  —   After years of scorning...   \n",
       "1                           Russian warships ready to strike terrorists ne...   \n",
       "2            Common Dreams  Videos #NoDAPL: Native American Leaders Vow to...   \n",
       "3            Daniel Victor  If at first you don’t succeed, try a different...   \n",
       "4  Truth Broadcast Network  42 mins ago 1 Views 0 Comments 0 Likes 'For th...   \n",
       "\n",
       "                                               total  \n",
       "0  Specter of Trump Loosens Tongues, if Not Purse...  \n",
       "1  Russian warships ready to strike terrorists ne...  \n",
       "2  #NoDAPL: Native American Leaders Vow to Stay A...  \n",
       "3  Tim Tebow Will Attempt Another Comeback, This ...  \n",
       "4  Keiser Report: Meme Wars (E995) Truth Broadcas...  "
      ]
     },
     "execution_count": 11,
     "metadata": {},
     "output_type": "execute_result"
    }
   ],
   "source": [
    "test.head()"
   ]
  },
  {
   "cell_type": "code",
   "execution_count": 12,
   "id": "6c85fb1b",
   "metadata": {},
   "outputs": [
    {
     "name": "stdout",
     "output_type": "stream",
     "text": [
      "(20800, 5)\n",
      "(20800,)\n"
     ]
    }
   ],
   "source": [
    "X_train = df.drop('label',axis=1)\n",
    "y_train=df['label']\n",
    "print(X_train.shape)\n",
    "print(y_train.shape)"
   ]
  },
  {
   "cell_type": "code",
   "execution_count": 13,
   "id": "5dde217e",
   "metadata": {},
   "outputs": [
    {
     "data": {
      "text/html": [
       "<div>\n",
       "<style scoped>\n",
       "    .dataframe tbody tr th:only-of-type {\n",
       "        vertical-align: middle;\n",
       "    }\n",
       "\n",
       "    .dataframe tbody tr th {\n",
       "        vertical-align: top;\n",
       "    }\n",
       "\n",
       "    .dataframe thead th {\n",
       "        text-align: right;\n",
       "    }\n",
       "</style>\n",
       "<table border=\"1\" class=\"dataframe\">\n",
       "  <thead>\n",
       "    <tr style=\"text-align: right;\">\n",
       "      <th></th>\n",
       "      <th>id</th>\n",
       "      <th>title</th>\n",
       "      <th>author</th>\n",
       "      <th>text</th>\n",
       "      <th>total</th>\n",
       "    </tr>\n",
       "  </thead>\n",
       "  <tbody>\n",
       "    <tr>\n",
       "      <th>0</th>\n",
       "      <td>0</td>\n",
       "      <td>House Dem Aide: We Didn’t Even See Comey’s Let...</td>\n",
       "      <td>Darrell Lucus</td>\n",
       "      <td>House Dem Aide: We Didn’t Even See Comey’s Let...</td>\n",
       "      <td>House Dem Aide: We Didn’t Even See Comey’s Let...</td>\n",
       "    </tr>\n",
       "    <tr>\n",
       "      <th>1</th>\n",
       "      <td>1</td>\n",
       "      <td>FLYNN: Hillary Clinton, Big Woman on Campus - ...</td>\n",
       "      <td>Daniel J. Flynn</td>\n",
       "      <td>Ever get the feeling your life circles the rou...</td>\n",
       "      <td>FLYNN: Hillary Clinton, Big Woman on Campus - ...</td>\n",
       "    </tr>\n",
       "    <tr>\n",
       "      <th>2</th>\n",
       "      <td>2</td>\n",
       "      <td>Why the Truth Might Get You Fired</td>\n",
       "      <td>Consortiumnews.com</td>\n",
       "      <td>Why the Truth Might Get You Fired October 29, ...</td>\n",
       "      <td>Why the Truth Might Get You Fired Consortiumne...</td>\n",
       "    </tr>\n",
       "    <tr>\n",
       "      <th>3</th>\n",
       "      <td>3</td>\n",
       "      <td>15 Civilians Killed In Single US Airstrike Hav...</td>\n",
       "      <td>Jessica Purkiss</td>\n",
       "      <td>Videos 15 Civilians Killed In Single US Airstr...</td>\n",
       "      <td>15 Civilians Killed In Single US Airstrike Hav...</td>\n",
       "    </tr>\n",
       "    <tr>\n",
       "      <th>4</th>\n",
       "      <td>4</td>\n",
       "      <td>Iranian woman jailed for fictional unpublished...</td>\n",
       "      <td>Howard Portnoy</td>\n",
       "      <td>Print \\nAn Iranian woman has been sentenced to...</td>\n",
       "      <td>Iranian woman jailed for fictional unpublished...</td>\n",
       "    </tr>\n",
       "  </tbody>\n",
       "</table>\n",
       "</div>"
      ],
      "text/plain": [
       "   id                                              title              author  \\\n",
       "0   0  House Dem Aide: We Didn’t Even See Comey’s Let...       Darrell Lucus   \n",
       "1   1  FLYNN: Hillary Clinton, Big Woman on Campus - ...     Daniel J. Flynn   \n",
       "2   2                  Why the Truth Might Get You Fired  Consortiumnews.com   \n",
       "3   3  15 Civilians Killed In Single US Airstrike Hav...     Jessica Purkiss   \n",
       "4   4  Iranian woman jailed for fictional unpublished...      Howard Portnoy   \n",
       "\n",
       "                                                text  \\\n",
       "0  House Dem Aide: We Didn’t Even See Comey’s Let...   \n",
       "1  Ever get the feeling your life circles the rou...   \n",
       "2  Why the Truth Might Get You Fired October 29, ...   \n",
       "3  Videos 15 Civilians Killed In Single US Airstr...   \n",
       "4  Print \\nAn Iranian woman has been sentenced to...   \n",
       "\n",
       "                                               total  \n",
       "0  House Dem Aide: We Didn’t Even See Comey’s Let...  \n",
       "1  FLYNN: Hillary Clinton, Big Woman on Campus - ...  \n",
       "2  Why the Truth Might Get You Fired Consortiumne...  \n",
       "3  15 Civilians Killed In Single US Airstrike Hav...  \n",
       "4  Iranian woman jailed for fictional unpublished...  "
      ]
     },
     "execution_count": 13,
     "metadata": {},
     "output_type": "execute_result"
    }
   ],
   "source": [
    "X_train.head()"
   ]
  },
  {
   "cell_type": "code",
   "execution_count": 14,
   "id": "46c197ee",
   "metadata": {},
   "outputs": [
    {
     "data": {
      "text/plain": [
       "0    1\n",
       "1    0\n",
       "2    1\n",
       "3    1\n",
       "4    1\n",
       "Name: label, dtype: int64"
      ]
     },
     "execution_count": 14,
     "metadata": {},
     "output_type": "execute_result"
    }
   ],
   "source": [
    "y_train.head()"
   ]
  },
  {
   "cell_type": "code",
   "execution_count": 15,
   "id": "562de3f3",
   "metadata": {},
   "outputs": [],
   "source": [
    "#Choosing vocabulary size to be 5000 and copying data to msg for further cleaning\n",
    "voc_size = 5000\n",
    "msg = X_train.copy()\n",
    "msg_test = test.copy()"
   ]
  },
  {
   "cell_type": "code",
   "execution_count": 16,
   "id": "8a95b114",
   "metadata": {},
   "outputs": [
    {
     "name": "stderr",
     "output_type": "stream",
     "text": [
      "[nltk_data] Downloading package stopwords to\n",
      "[nltk_data]     C:\\Users\\dvnbi\\AppData\\Roaming\\nltk_data...\n",
      "[nltk_data]   Package stopwords is already up-to-date!\n"
     ]
    },
    {
     "data": {
      "text/plain": [
       "True"
      ]
     },
     "execution_count": 16,
     "metadata": {},
     "output_type": "execute_result"
    }
   ],
   "source": [
    "#Downloading stopwords \n",
    "#Stopwords are the words in any language which does not add much meaning to a sentence.\n",
    "#They can safely be ignored without sacrificing the meaning of the sentence.\n",
    "import nltk\n",
    "import re\n",
    "from nltk.corpus import stopwords\n",
    "nltk.download('stopwords')"
   ]
  },
  {
   "cell_type": "code",
   "execution_count": 17,
   "id": "7697e770",
   "metadata": {},
   "outputs": [],
   "source": [
    "#We will be using Stemming here\n",
    "#Stemming map words to their root forms\n",
    "from nltk.stem.porter import PorterStemmer\n",
    "ps = PorterStemmer()\n",
    "corpus = []"
   ]
  },
  {
   "cell_type": "code",
   "execution_count": 18,
   "id": "f7c6f252",
   "metadata": {},
   "outputs": [],
   "source": [
    "#Applying stemming and some preprocessing\n",
    "for i in range(len(msg)):\n",
    "  review = re.sub('[^a-zA-Z]',' ',msg['total'][i])\n",
    "  review = review.lower()\n",
    "  review = review.split()\n",
    "  review = [ps.stem(word) for word in review if not word in stopwords.words('english')]\n",
    "  review = ' '.join(review)\n",
    "  corpus.append(review)"
   ]
  },
  {
   "cell_type": "code",
   "execution_count": 19,
   "id": "0435c92c",
   "metadata": {},
   "outputs": [],
   "source": [
    "#Applying stemming and some preprocessing for test data\n",
    "corpus_test = []\n",
    "for i in range(len(msg_test)):\n",
    "  review = re.sub('[^a-zA-Z]',' ',msg_test['total'][i])\n",
    "  review = review.lower()\n",
    "  review = review.split()\n",
    "  review = [ps.stem(word) for word in review if not word in stopwords.words('english')]\n",
    "  review = ' '.join(review)\n",
    "  corpus_test.append(review)"
   ]
  },
  {
   "cell_type": "code",
   "execution_count": 20,
   "id": "ab1f513e",
   "metadata": {},
   "outputs": [
    {
     "ename": "NameError",
     "evalue": "name 'one_hot' is not defined",
     "output_type": "error",
     "traceback": [
      "\u001b[1;31m---------------------------------------------------------------------------\u001b[0m",
      "\u001b[1;31mNameError\u001b[0m                                 Traceback (most recent call last)",
      "\u001b[1;32mc:\\Users\\dvnbi\\Documents\\Fake News\\Fake News Detection.ipynb Cell 23\u001b[0m in \u001b[0;36m<cell line: 2>\u001b[1;34m()\u001b[0m\n\u001b[0;32m      <a href='vscode-notebook-cell:/c%3A/Users/dvnbi/Documents/Fake%20News/Fake%20News%20Detection.ipynb#X31sZmlsZQ%3D%3D?line=0'>1</a>\u001b[0m \u001b[39m# Converting to one hot representation\u001b[39;00m\n\u001b[1;32m----> <a href='vscode-notebook-cell:/c%3A/Users/dvnbi/Documents/Fake%20News/Fake%20News%20Detection.ipynb#X31sZmlsZQ%3D%3D?line=1'>2</a>\u001b[0m onehot_rep \u001b[39m=\u001b[39m [one_hot(words,voc_size)\u001b[39mfor\u001b[39;00m words \u001b[39min\u001b[39;00m corpus]\n\u001b[0;32m      <a href='vscode-notebook-cell:/c%3A/Users/dvnbi/Documents/Fake%20News/Fake%20News%20Detection.ipynb#X31sZmlsZQ%3D%3D?line=2'>3</a>\u001b[0m onehot_rep_test \u001b[39m=\u001b[39m [one_hot(words,voc_size)\u001b[39mfor\u001b[39;00m words \u001b[39min\u001b[39;00m corpus_test]\n",
      "\u001b[1;32mc:\\Users\\dvnbi\\Documents\\Fake News\\Fake News Detection.ipynb Cell 23\u001b[0m in \u001b[0;36m<listcomp>\u001b[1;34m(.0)\u001b[0m\n\u001b[0;32m      <a href='vscode-notebook-cell:/c%3A/Users/dvnbi/Documents/Fake%20News/Fake%20News%20Detection.ipynb#X31sZmlsZQ%3D%3D?line=0'>1</a>\u001b[0m \u001b[39m# Converting to one hot representation\u001b[39;00m\n\u001b[1;32m----> <a href='vscode-notebook-cell:/c%3A/Users/dvnbi/Documents/Fake%20News/Fake%20News%20Detection.ipynb#X31sZmlsZQ%3D%3D?line=1'>2</a>\u001b[0m onehot_rep \u001b[39m=\u001b[39m [one_hot(words,voc_size)\u001b[39mfor\u001b[39;00m words \u001b[39min\u001b[39;00m corpus]\n\u001b[0;32m      <a href='vscode-notebook-cell:/c%3A/Users/dvnbi/Documents/Fake%20News/Fake%20News%20Detection.ipynb#X31sZmlsZQ%3D%3D?line=2'>3</a>\u001b[0m onehot_rep_test \u001b[39m=\u001b[39m [one_hot(words,voc_size)\u001b[39mfor\u001b[39;00m words \u001b[39min\u001b[39;00m corpus_test]\n",
      "\u001b[1;31mNameError\u001b[0m: name 'one_hot' is not defined"
     ]
    }
   ],
   "source": [
    "# Converting to one hot representation\n",
    "onehot_rep = [one_hot(words,voc_size)for words in corpus]\n",
    "onehot_rep_test = [one_hot(words,voc_size)for words in corpus_test]"
   ]
  },
  {
   "cell_type": "code",
   "execution_count": null,
   "id": "f1f8c21f",
   "metadata": {},
   "outputs": [],
   "source": [
    "#Padding Sentences to make them of same size\n",
    "embedded_docs = pad_sequences(onehot_rep,padding='pre',maxlen=25)\n",
    "embedded_docs_test = pad_sequences(onehot_rep_test,padding='pre',maxlen=25)"
   ]
  },
  {
   "cell_type": "markdown",
   "id": "ed0fa2d5",
   "metadata": {},
   "source": [
    "# Model "
   ]
  },
  {
   "cell_type": "code",
   "execution_count": null,
   "id": "c396edd2",
   "metadata": {},
   "outputs": [],
   "source": [
    "#We have used embedding layers with LSTM\n",
    "model = Sequential()\n",
    "model.add(Embedding(voc_size,40,input_length=25))\n",
    "model.add(Dropout(0.3))\n",
    "model.add(LSTM(100))\n",
    "model.add(Dropout(0.3))\n",
    "model.add(Dense(64,activation='relu'))\n",
    "model.add(Dropout(0.3))\n",
    "model.add(Dense(1,activation='sigmoid'))"
   ]
  },
  {
   "cell_type": "code",
   "execution_count": null,
   "id": "be50502e",
   "metadata": {},
   "outputs": [
    {
     "name": "stdout",
     "output_type": "stream",
     "text": [
      "Model: \"sequential\"\n",
      "_________________________________________________________________\n",
      "Layer (type)                 Output Shape              Param #   \n",
      "=================================================================\n",
      "embedding (Embedding)        (None, 25, 40)            200000    \n",
      "_________________________________________________________________\n",
      "dropout (Dropout)            (None, 25, 40)            0         \n",
      "_________________________________________________________________\n",
      "lstm (LSTM)                  (None, 100)               56400     \n",
      "_________________________________________________________________\n",
      "dropout_1 (Dropout)          (None, 100)               0         \n",
      "_________________________________________________________________\n",
      "dense (Dense)                (None, 64)                6464      \n",
      "_________________________________________________________________\n",
      "dropout_2 (Dropout)          (None, 64)                0         \n",
      "_________________________________________________________________\n",
      "dense_1 (Dense)              (None, 1)                 65        \n",
      "=================================================================\n",
      "Total params: 262,929\n",
      "Trainable params: 262,929\n",
      "Non-trainable params: 0\n",
      "_________________________________________________________________\n",
      "None\n"
     ]
    }
   ],
   "source": [
    "print(model.summary())"
   ]
  },
  {
   "cell_type": "code",
   "execution_count": null,
   "id": "e5fd02a2",
   "metadata": {},
   "outputs": [
    {
     "name": "stdout",
     "output_type": "stream",
     "text": [
      "('You must install pydot (`pip install pydot`) and install graphviz (see instructions at https://graphviz.gitlab.io/download/) ', 'for plot_model/model_to_dot to work.')\n"
     ]
    }
   ],
   "source": [
    "# plot graph\n",
    "plot_model(model, to_file='fake_news.png')"
   ]
  },
  {
   "cell_type": "code",
   "execution_count": null,
   "id": "fa02056d",
   "metadata": {},
   "outputs": [],
   "source": [
    "model.compile(loss='binary_crossentropy',optimizer='adam',metrics=['accuracy'])"
   ]
  },
  {
   "cell_type": "code",
   "execution_count": null,
   "id": "ed566101",
   "metadata": {},
   "outputs": [
    {
     "data": {
      "text/plain": [
       "((20800, 25), (20800,), (5200, 25))"
      ]
     },
     "execution_count": 25,
     "metadata": {},
     "output_type": "execute_result"
    }
   ],
   "source": [
    "#Converting into numpy array\n",
    "X_final = np.array(embedded_docs)\n",
    "y_final = np.array(y_train)\n",
    "test_final = np.array(embedded_docs_test)\n",
    "X_final.shape,y_final.shape,test_final.shape"
   ]
  },
  {
   "cell_type": "markdown",
   "id": "fac97fcf",
   "metadata": {},
   "source": [
    "# Model Fit"
   ]
  },
  {
   "cell_type": "code",
   "execution_count": null,
   "id": "ae24a3e1",
   "metadata": {},
   "outputs": [
    {
     "name": "stdout",
     "output_type": "stream",
     "text": [
      "Epoch 1/10\n",
      "325/325 [==============================] - 7s 7ms/step - loss: 0.1609 - accuracy: 0.9357\n",
      "Epoch 2/10\n",
      "325/325 [==============================] - 2s 8ms/step - loss: 0.0203 - accuracy: 0.9937\n",
      "Epoch 3/10\n",
      "325/325 [==============================] - 3s 8ms/step - loss: 0.0103 - accuracy: 0.9968\n",
      "Epoch 4/10\n",
      "325/325 [==============================] - 2s 8ms/step - loss: 0.0054 - accuracy: 0.9986\n",
      "Epoch 5/10\n",
      "325/325 [==============================] - 2s 8ms/step - loss: 0.0026 - accuracy: 0.9991\n",
      "Epoch 6/10\n",
      "325/325 [==============================] - 2s 8ms/step - loss: 0.0031 - accuracy: 0.9991\n",
      "Epoch 7/10\n",
      "325/325 [==============================] - 2s 8ms/step - loss: 0.0023 - accuracy: 0.9992\n",
      "Epoch 8/10\n",
      "325/325 [==============================] - 2s 8ms/step - loss: 0.0029 - accuracy: 0.9991\n",
      "Epoch 9/10\n",
      "325/325 [==============================] - 2s 8ms/step - loss: 0.0010 - accuracy: 0.9998\n",
      "Epoch 10/10\n",
      "325/325 [==============================] - 2s 8ms/step - loss: 0.0014 - accuracy: 0.9995\n"
     ]
    },
    {
     "data": {
      "text/plain": [
       "<tensorflow.python.keras.callbacks.History at 0x27356645e80>"
      ]
     },
     "execution_count": 26,
     "metadata": {},
     "output_type": "execute_result"
    }
   ],
   "source": [
    "#training model\n",
    "model.fit(X_final,y_final,epochs=10,batch_size=64)"
   ]
  },
  {
   "cell_type": "markdown",
   "id": "95bf349c",
   "metadata": {},
   "source": [
    "# Model Prediction"
   ]
  },
  {
   "cell_type": "code",
   "execution_count": null,
   "id": "18d315f4",
   "metadata": {},
   "outputs": [],
   "source": [
    "y_pred = model.predict(test_final)"
   ]
  },
  {
   "cell_type": "code",
   "execution_count": null,
   "id": "2796572b",
   "metadata": {},
   "outputs": [
    {
     "name": "stdout",
     "output_type": "stream",
     "text": [
      "[[2.6104263e-07]\n",
      " [1.0000000e+00]\n",
      " [9.9994504e-01]\n",
      " ...\n",
      " [7.2360576e-11]\n",
      " [9.9999666e-01]\n",
      " [1.6514925e-06]]\n"
     ]
    }
   ],
   "source": [
    "print(y_pred)"
   ]
  },
  {
   "cell_type": "code",
   "execution_count": null,
   "id": "ca929b73",
   "metadata": {},
   "outputs": [],
   "source": [
    "if (y_pred[i] > 0.5):\n",
    "    Label = 1\n",
    "else:\n",
    "    Label = 0"
   ]
  },
  {
   "cell_type": "code",
   "execution_count": null,
   "id": "e2288740",
   "metadata": {},
   "outputs": [],
   "source": [
    "# save the whole model\n",
    "model.save(\"./fake_model.h5\")"
   ]
  },
  {
   "cell_type": "code",
   "execution_count": null,
   "id": "fcce4b24",
   "metadata": {},
   "outputs": [
    {
     "data": {
      "text/plain": [
       "array([[2.6104263e-07],\n",
       "       [1.0000000e+00],\n",
       "       [9.9994504e-01],\n",
       "       ...,\n",
       "       [7.2360576e-11],\n",
       "       [9.9999666e-01],\n",
       "       [1.6514925e-06]], dtype=float32)"
      ]
     },
     "execution_count": 31,
     "metadata": {},
     "output_type": "execute_result"
    }
   ],
   "source": [
    "y_pred"
   ]
  },
  {
   "cell_type": "code",
   "execution_count": null,
   "id": "9d28cb9a",
   "metadata": {},
   "outputs": [
    {
     "data": {
      "text/plain": [
       "array([[False],\n",
       "       [ True],\n",
       "       [ True],\n",
       "       ...,\n",
       "       [False],\n",
       "       [ True],\n",
       "       [False]])"
      ]
     },
     "execution_count": 32,
     "metadata": {},
     "output_type": "execute_result"
    }
   ],
   "source": [
    "y_pred=(y_pred>0.5)\n",
    "y_pred"
   ]
  }
 ],
 "metadata": {
  "kernelspec": {
   "display_name": "Python 3.9.12 ('NLP')",
   "language": "python",
   "name": "python3"
  },
  "language_info": {
   "codemirror_mode": {
    "name": "ipython",
    "version": 3
   },
   "file_extension": ".py",
   "mimetype": "text/x-python",
   "name": "python",
   "nbconvert_exporter": "python",
   "pygments_lexer": "ipython3",
   "version": "3.9.12"
  },
  "vscode": {
   "interpreter": {
    "hash": "77598f2610286075531c472742f250a395fb7ae94335347e8d4242c6ca751932"
   }
  }
 },
 "nbformat": 4,
 "nbformat_minor": 5
}
